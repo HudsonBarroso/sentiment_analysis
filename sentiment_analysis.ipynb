{
 "cells": [
  {
   "cell_type": "code",
   "execution_count": 1,
   "id": "8a608fbf",
   "metadata": {},
   "outputs": [],
   "source": [
    "import tweepy,re\n",
    "from textblob import TextBlob\n",
    "import matplotlib.pyplot as plt\n",
    "import pandas as pd\n",
    "\n",
    "from nltk.tokenize import word_tokenize\n",
    "from nltk.stem import WordNetLemmatizer\n",
    "from nltk.corpus import stopwords"
   ]
  },
  {
   "cell_type": "code",
   "execution_count": 2,
   "id": "7b7f69f3",
   "metadata": {},
   "outputs": [],
   "source": [
    "# Authentication from twitter api -> https://developer.twitter.com/\n",
    "# Create a app and get your keys\n",
    "consumerKey = 'Y3qbEvNnl1kJ5QufR69kprCN4'\n",
    "consumerSecret = 'uBwR6j5rdRvPBL03UnSi0V13RlKXRVd1SaJ5oJURdQSJsrqGGR'\n",
    "accessToken = '3344461197-GTVIAeKj4DSNJRI2I24a2hvVBg0ajlZM9YVkJrE'\n",
    "accessTokenSecret = 'Tke7S6JZZcV2tqpuUrYbs6dY2rFPIYlQmia7L0JfaNoUn'\n",
    "\n",
    "auth = tweepy.OAuthHandler(consumerKey, consumerSecret)\n",
    "auth.set_access_token(accessToken, accessTokenSecret)\n",
    "api = tweepy.API(auth)"
   ]
  },
  {
   "cell_type": "code",
   "execution_count": 5,
   "id": "6e7838c7",
   "metadata": {},
   "outputs": [
    {
     "name": "stdout",
     "output_type": "stream",
     "text": [
      "Enter the keyword/Tag to search about: microsoft\n",
      "Enter how many tweet to search: 100\n"
     ]
    }
   ],
   "source": [
    "# Input for term to be searched and how many tweets to search\n",
    "searchTerm = input(\"Enter the keyword/Tag to search about: \")\n",
    "NoOfTerms = int(input(\"Enter how many tweet to search: \"))\n",
    "\n",
    "tweets = []\n",
    "tweetText = []\n",
    "\n",
    "# Searching for tweets \n",
    "tweets = tweepy.Cursor(api.search, q=searchTerm+\" -filter:retweets\", lang =\"en\").items(NoOfTerms)"
   ]
  },
  {
   "cell_type": "code",
   "execution_count": 6,
   "id": "01aa03dc",
   "metadata": {},
   "outputs": [
    {
     "data": {
      "text/html": [
       "<div>\n",
       "<style scoped>\n",
       "    .dataframe tbody tr th:only-of-type {\n",
       "        vertical-align: middle;\n",
       "    }\n",
       "\n",
       "    .dataframe tbody tr th {\n",
       "        vertical-align: top;\n",
       "    }\n",
       "\n",
       "    .dataframe thead th {\n",
       "        text-align: right;\n",
       "    }\n",
       "</style>\n",
       "<table border=\"1\" class=\"dataframe\">\n",
       "  <thead>\n",
       "    <tr style=\"text-align: right;\">\n",
       "      <th></th>\n",
       "      <th>0</th>\n",
       "    </tr>\n",
       "  </thead>\n",
       "  <tbody>\n",
       "    <tr>\n",
       "      <th>0</th>\n",
       "      <td>The Cover-Up Continues: The Truth About Bill G...</td>\n",
       "    </tr>\n",
       "    <tr>\n",
       "      <th>1</th>\n",
       "      <td>#proprietarySoftware #Microsoft Teams [sic] \"e...</td>\n",
       "    </tr>\n",
       "    <tr>\n",
       "      <th>2</th>\n",
       "      <td>@jesawyer @trailerparkape I'm in the same boat...</td>\n",
       "    </tr>\n",
       "    <tr>\n",
       "      <th>3</th>\n",
       "      <td>@jasoncwarner I was on the WingZ team. Crushed...</td>\n",
       "    </tr>\n",
       "    <tr>\n",
       "      <th>4</th>\n",
       "      <td>\"ad:\" Microsoft Xbox Series X 1TB Video Game C...</td>\n",
       "    </tr>\n",
       "    <tr>\n",
       "      <th>...</th>\n",
       "      <td>...</td>\n",
       "    </tr>\n",
       "    <tr>\n",
       "      <th>95</th>\n",
       "      <td>Microsoft Office #resume template gallery http...</td>\n",
       "    </tr>\n",
       "    <tr>\n",
       "      <th>96</th>\n",
       "      <td>As an owner, do you have the most transparent ...</td>\n",
       "    </tr>\n",
       "    <tr>\n",
       "      <th>97</th>\n",
       "      <td>Nigga wasted his time on Microsoft excel https...</td>\n",
       "    </tr>\n",
       "    <tr>\n",
       "      <th>98</th>\n",
       "      <td>Visit my entry in demo extravaganza and vote f...</td>\n",
       "    </tr>\n",
       "    <tr>\n",
       "      <th>99</th>\n",
       "      <td>It's going to be interesting what Microsoft sh...</td>\n",
       "    </tr>\n",
       "  </tbody>\n",
       "</table>\n",
       "<p>100 rows × 1 columns</p>\n",
       "</div>"
      ],
      "text/plain": [
       "                                                    0\n",
       "0   The Cover-Up Continues: The Truth About Bill G...\n",
       "1   #proprietarySoftware #Microsoft Teams [sic] \"e...\n",
       "2   @jesawyer @trailerparkape I'm in the same boat...\n",
       "3   @jasoncwarner I was on the WingZ team. Crushed...\n",
       "4   \"ad:\" Microsoft Xbox Series X 1TB Video Game C...\n",
       "..                                                ...\n",
       "95  Microsoft Office #resume template gallery http...\n",
       "96  As an owner, do you have the most transparent ...\n",
       "97  Nigga wasted his time on Microsoft excel https...\n",
       "98  Visit my entry in demo extravaganza and vote f...\n",
       "99  It's going to be interesting what Microsoft sh...\n",
       "\n",
       "[100 rows x 1 columns]"
      ]
     },
     "execution_count": 6,
     "metadata": {},
     "output_type": "execute_result"
    }
   ],
   "source": [
    "# Insert the tweets into a list and show in pandas DataFrame\n",
    "tweet_list = [tweet.text for tweet in tweets]\n",
    "tweet_df = pd.DataFrame(tweet_list)\n",
    "tweet_df"
   ]
  },
  {
   "cell_type": "markdown",
   "id": "590e8897",
   "metadata": {},
   "source": [
    "## Cleaning Data\n",
    "This regular expression was made to remove words with \"@\""
   ]
  },
  {
   "cell_type": "code",
   "execution_count": 7,
   "id": "dccffe55",
   "metadata": {},
   "outputs": [],
   "source": [
    "# Regular expression can be a very useful tool for data searching and replacement\n",
    "# for more: https://www.tutorialspoint.com/python/python_reg_expressions.htm\n",
    "def clean_data(text):\n",
    "    return ' '.join(re.sub(\"(@[a-zA-Z0-9]+)|([^0-9A-Za-z])|(https://[\\w.]+/[\\w]+)\",\" \", text).split())\n",
    "\n",
    "tweet_df['cleaned_data'] = tweet_df[0].apply(clean_data)"
   ]
  },
  {
   "cell_type": "code",
   "execution_count": 8,
   "id": "2e7de8f6",
   "metadata": {},
   "outputs": [
    {
     "data": {
      "text/html": [
       "<div>\n",
       "<style scoped>\n",
       "    .dataframe tbody tr th:only-of-type {\n",
       "        vertical-align: middle;\n",
       "    }\n",
       "\n",
       "    .dataframe tbody tr th {\n",
       "        vertical-align: top;\n",
       "    }\n",
       "\n",
       "    .dataframe thead th {\n",
       "        text-align: right;\n",
       "    }\n",
       "</style>\n",
       "<table border=\"1\" class=\"dataframe\">\n",
       "  <thead>\n",
       "    <tr style=\"text-align: right;\">\n",
       "      <th></th>\n",
       "      <th>0</th>\n",
       "      <th>cleaned_data</th>\n",
       "    </tr>\n",
       "  </thead>\n",
       "  <tbody>\n",
       "    <tr>\n",
       "      <th>0</th>\n",
       "      <td>The Cover-Up Continues: The Truth About Bill G...</td>\n",
       "      <td>The Cover Up Continues The Truth About Bill Ga...</td>\n",
       "    </tr>\n",
       "    <tr>\n",
       "      <th>1</th>\n",
       "      <td>#proprietarySoftware #Microsoft Teams [sic] \"e...</td>\n",
       "      <td>proprietarySoftware Microsoft Teams sic exploi...</td>\n",
       "    </tr>\n",
       "    <tr>\n",
       "      <th>2</th>\n",
       "      <td>@jesawyer @trailerparkape I'm in the same boat...</td>\n",
       "      <td>I m in the same boat On a 1080 looking for a 3...</td>\n",
       "    </tr>\n",
       "    <tr>\n",
       "      <th>3</th>\n",
       "      <td>@jasoncwarner I was on the WingZ team. Crushed...</td>\n",
       "      <td>I was on the WingZ team Crushed by Microsoft E...</td>\n",
       "    </tr>\n",
       "    <tr>\n",
       "      <th>4</th>\n",
       "      <td>\"ad:\" Microsoft Xbox Series X 1TB Video Game C...</td>\n",
       "      <td>ad Microsoft Xbox Series X 1TB Video Game Cons...</td>\n",
       "    </tr>\n",
       "  </tbody>\n",
       "</table>\n",
       "</div>"
      ],
      "text/plain": [
       "                                                   0  \\\n",
       "0  The Cover-Up Continues: The Truth About Bill G...   \n",
       "1  #proprietarySoftware #Microsoft Teams [sic] \"e...   \n",
       "2  @jesawyer @trailerparkape I'm in the same boat...   \n",
       "3  @jasoncwarner I was on the WingZ team. Crushed...   \n",
       "4  \"ad:\" Microsoft Xbox Series X 1TB Video Game C...   \n",
       "\n",
       "                                        cleaned_data  \n",
       "0  The Cover Up Continues The Truth About Bill Ga...  \n",
       "1  proprietarySoftware Microsoft Teams sic exploi...  \n",
       "2  I m in the same boat On a 1080 looking for a 3...  \n",
       "3  I was on the WingZ team Crushed by Microsoft E...  \n",
       "4  ad Microsoft Xbox Series X 1TB Video Game Cons...  "
      ]
     },
     "execution_count": 8,
     "metadata": {},
     "output_type": "execute_result"
    }
   ],
   "source": [
    "tweet_df.head()"
   ]
  },
  {
   "cell_type": "code",
   "execution_count": 9,
   "id": "129a52c7",
   "metadata": {},
   "outputs": [],
   "source": [
    "# Function to remove numbers\n",
    "def drop_numbers(list_text):\n",
    "    list_text_new = []\n",
    "    for i in list_text:\n",
    "        if not re.search('\\d', i):\n",
    "            list_text_new.append(i)\n",
    "    return ''.join(list_text_new) \n",
    "tweet_df['cleaned_data'] = tweet_df['cleaned_data'].apply(drop_numbers)"
   ]
  },
  {
   "cell_type": "code",
   "execution_count": 10,
   "id": "e5d1206a",
   "metadata": {},
   "outputs": [
    {
     "data": {
      "text/html": [
       "<div>\n",
       "<style scoped>\n",
       "    .dataframe tbody tr th:only-of-type {\n",
       "        vertical-align: middle;\n",
       "    }\n",
       "\n",
       "    .dataframe tbody tr th {\n",
       "        vertical-align: top;\n",
       "    }\n",
       "\n",
       "    .dataframe thead th {\n",
       "        text-align: right;\n",
       "    }\n",
       "</style>\n",
       "<table border=\"1\" class=\"dataframe\">\n",
       "  <thead>\n",
       "    <tr style=\"text-align: right;\">\n",
       "      <th></th>\n",
       "      <th>0</th>\n",
       "      <th>cleaned_data</th>\n",
       "    </tr>\n",
       "  </thead>\n",
       "  <tbody>\n",
       "    <tr>\n",
       "      <th>0</th>\n",
       "      <td>The Cover-Up Continues: The Truth About Bill G...</td>\n",
       "      <td>The Cover Up Continues The Truth About Bill Ga...</td>\n",
       "    </tr>\n",
       "    <tr>\n",
       "      <th>1</th>\n",
       "      <td>#proprietarySoftware #Microsoft Teams [sic] \"e...</td>\n",
       "      <td>proprietarySoftware Microsoft Teams sic exploi...</td>\n",
       "    </tr>\n",
       "    <tr>\n",
       "      <th>2</th>\n",
       "      <td>@jesawyer @trailerparkape I'm in the same boat...</td>\n",
       "      <td>I m in the same boat On a  looking for a  You ...</td>\n",
       "    </tr>\n",
       "    <tr>\n",
       "      <th>3</th>\n",
       "      <td>@jasoncwarner I was on the WingZ team. Crushed...</td>\n",
       "      <td>I was on the WingZ team Crushed by Microsoft E...</td>\n",
       "    </tr>\n",
       "    <tr>\n",
       "      <th>4</th>\n",
       "      <td>\"ad:\" Microsoft Xbox Series X 1TB Video Game C...</td>\n",
       "      <td>ad Microsoft Xbox Series X TB Video Game Conso...</td>\n",
       "    </tr>\n",
       "    <tr>\n",
       "      <th>...</th>\n",
       "      <td>...</td>\n",
       "      <td>...</td>\n",
       "    </tr>\n",
       "    <tr>\n",
       "      <th>95</th>\n",
       "      <td>Microsoft Office #resume template gallery http...</td>\n",
       "      <td>Microsoft Office resume template gallery caree...</td>\n",
       "    </tr>\n",
       "    <tr>\n",
       "      <th>96</th>\n",
       "      <td>As an owner, do you have the most transparent ...</td>\n",
       "      <td>As an owner do you have the most transparent d...</td>\n",
       "    </tr>\n",
       "    <tr>\n",
       "      <th>97</th>\n",
       "      <td>Nigga wasted his time on Microsoft excel https...</td>\n",
       "      <td>Nigga wasted his time on Microsoft excel</td>\n",
       "    </tr>\n",
       "    <tr>\n",
       "      <th>98</th>\n",
       "      <td>Visit my entry in demo extravaganza and vote f...</td>\n",
       "      <td>Visit my entry in demo extravaganza and vote f...</td>\n",
       "    </tr>\n",
       "    <tr>\n",
       "      <th>99</th>\n",
       "      <td>It's going to be interesting what Microsoft sh...</td>\n",
       "      <td>It s going to be interesting what Microsoft sh...</td>\n",
       "    </tr>\n",
       "  </tbody>\n",
       "</table>\n",
       "<p>100 rows × 2 columns</p>\n",
       "</div>"
      ],
      "text/plain": [
       "                                                    0  \\\n",
       "0   The Cover-Up Continues: The Truth About Bill G...   \n",
       "1   #proprietarySoftware #Microsoft Teams [sic] \"e...   \n",
       "2   @jesawyer @trailerparkape I'm in the same boat...   \n",
       "3   @jasoncwarner I was on the WingZ team. Crushed...   \n",
       "4   \"ad:\" Microsoft Xbox Series X 1TB Video Game C...   \n",
       "..                                                ...   \n",
       "95  Microsoft Office #resume template gallery http...   \n",
       "96  As an owner, do you have the most transparent ...   \n",
       "97  Nigga wasted his time on Microsoft excel https...   \n",
       "98  Visit my entry in demo extravaganza and vote f...   \n",
       "99  It's going to be interesting what Microsoft sh...   \n",
       "\n",
       "                                         cleaned_data  \n",
       "0   The Cover Up Continues The Truth About Bill Ga...  \n",
       "1   proprietarySoftware Microsoft Teams sic exploi...  \n",
       "2   I m in the same boat On a  looking for a  You ...  \n",
       "3   I was on the WingZ team Crushed by Microsoft E...  \n",
       "4   ad Microsoft Xbox Series X TB Video Game Conso...  \n",
       "..                                                ...  \n",
       "95  Microsoft Office resume template gallery caree...  \n",
       "96  As an owner do you have the most transparent d...  \n",
       "97           Nigga wasted his time on Microsoft excel  \n",
       "98  Visit my entry in demo extravaganza and vote f...  \n",
       "99  It s going to be interesting what Microsoft sh...  \n",
       "\n",
       "[100 rows x 2 columns]"
      ]
     },
     "execution_count": 10,
     "metadata": {},
     "output_type": "execute_result"
    }
   ],
   "source": [
    "tweet_df"
   ]
  },
  {
   "cell_type": "code",
   "execution_count": 11,
   "id": "74346a07",
   "metadata": {},
   "outputs": [],
   "source": [
    "# Changing all the words of the reviews column to lowercase letters\n",
    "def lower_case(text):\n",
    "    text_words = word_tokenize(text)\n",
    "    text_words_lower = [x.lower() for x in text_words]\n",
    "    return ' '.join(text_words_lower)\n",
    "\n",
    "tweet_df['cleaned_data'] = tweet_df['cleaned_data'].apply(lower_case)"
   ]
  },
  {
   "cell_type": "code",
   "execution_count": 12,
   "id": "3613146b",
   "metadata": {},
   "outputs": [
    {
     "name": "stderr",
     "output_type": "stream",
     "text": [
      "[nltk_data] Downloading package stopwords to\n",
      "[nltk_data]     C:\\Users\\HudsonCarol\\AppData\\Roaming\\nltk_data...\n",
      "[nltk_data]   Package stopwords is already up-to-date!\n"
     ]
    },
    {
     "data": {
      "text/plain": [
       "True"
      ]
     },
     "execution_count": 12,
     "metadata": {},
     "output_type": "execute_result"
    }
   ],
   "source": [
    "# Import the packages from NLTK \n",
    "import nltk\n",
    "nltk.download('stopwords')"
   ]
  },
  {
   "cell_type": "code",
   "execution_count": 13,
   "id": "4c9fa4f3",
   "metadata": {},
   "outputs": [],
   "source": [
    "# Convert a word to its base form - ‘Caring’ -> Lemmatization -> ‘Care’\n",
    "lemmatizer = WordNetLemmatizer()\n",
    "def lemmatise(text):\n",
    "    text_tokens = word_tokenize(text)\n",
    "    text_lemm = [lemmatizer.lemmatize(word) for word in text_tokens]\n",
    "    return ' '.join(text_lemm)\n",
    "\n",
    "tweet_df['cleaned_data'] = tweet_df['cleaned_data'].apply(lemmatise)"
   ]
  },
  {
   "cell_type": "code",
   "execution_count": 14,
   "id": "78aed391",
   "metadata": {},
   "outputs": [
    {
     "data": {
      "text/plain": [
       "array(['the cover up continues the truth about bill gate microsoft and jeffrey epstein',\n",
       "       'proprietarysoftware microsoft team sic exploit exposed sensitive file email and chat log',\n",
       "       'i m in the same boat on a looking for a you re a part of microsoft now you g',\n",
       "       'i wa on the wingz team crushed by microsoft excel',\n",
       "       'ad microsoft xbox series x tb video game console black free shipping',\n",
       "       'todd howard talked some more about what the microsoft bethesda partnership and subsequent exclusivity mean',\n",
       "       'microsoft banned crypto mining from their store how are they going to feel',\n",
       "       'window image of microsoft s next operating system leaked',\n",
       "       'p fanboys are really gon na log onto their window gaming pc purchase a game from a microsoft game studio',\n",
       "       'beginning on june th check out the new amplifying black voice series premiering on the humansofit blog the ne',\n",
       "       'congratulation on this glorious news board aapi',\n",
       "       'bethesda is literally owned by microsoft',\n",
       "       'xc microsoft say otherwise',\n",
       "       'see you space cowboy starfield bethesda xbox microsoft xboxbethesda',\n",
       "       'i didn t mean to imply it wa',\n",
       "       'crypto buffet ha never been right about tech in general that s why he hired othe',\n",
       "       'redhat is not competing with microsoft and proprietarysoftware instead it is embracing both',\n",
       "       'yt shock microsoft maintains one of the if not t',\n",
       "       'man remember when the microsoft kinect wa racist',\n",
       "       'an update on our effort to help preserve and protect journalism',\n",
       "       'microsoft ceo satya nadella now double a the company s chairman',\n",
       "       'look at this on ebay xbox xbox',\n",
       "       'anyways yes i now own an series s wa a bit of an impulse purchase but when u see a next gen console in s',\n",
       "       'is it a bad idea for microsoft to insure kid the workforce of tomorrow h',\n",
       "       'i removed microsoft visual studio joe not my kind of ide i only like eclipse besides microsoft ha a bunch o',\n",
       "       'there s so much potential if you re a decent writer with the english language there s writing for',\n",
       "       'a microsoft version feel forced on the user you can t compare it to stripe effect',\n",
       "       'but what if microsoft buy a different startup that doe this',\n",
       "       'i am really not happy that i wasted hour of effort because microsoft s support straight up lied to me',\n",
       "       'xc i gave you the only information we have directly from microsoft about halo and it wa th',\n",
       "       'i m going to make a coffee and then play ssx i m xbox one while i wait destiny to finish downloading ssx coffee',\n",
       "       'microsoft go bankrupt for embezzlement now billion in debt',\n",
       "       'sign in error trying to get into my microsoft drive good luck with that im coming for you motherfucker i know wher',\n",
       "       'an activist investor is urging microsoft to do more to combat sexual harassment following misconduct allegation ag',\n",
       "       'microsoft learn day online mslearn',\n",
       "       'in omessagecenter item mc the property mc messagetagnames ha changed microsoftteams see',\n",
       "       'i have icarly dvd in a microsoft team reunion',\n",
       "       'microsoft could be sued for lying about using the terminology xbox exclusive when it s on pc which',\n",
       "       'microsoft ceo satya nadella now double a the company s chairman it s the first time in two decade that microso',\n",
       "       'engage in interesting combat with spectacular action in to fight a an assassin in assassin creed iii',\n",
       "       'i m disappointed a an owner of both console microsoft spent billion and we still have the same amount',\n",
       "       'aoyama woah window look fucking cool i did not know nintendo team up with microsoft xdd',\n",
       "       'or google or stripe or apple or shopify or but it s never microsoft in this convo after the s',\n",
       "       'realise the potential of microsoft technology to achieve digital transformation datacom ha a deep understanding',\n",
       "       'i m assuming you re referring to the now retired office e a there s',\n",
       "       'window is microsoft having it spinal tap moment',\n",
       "       'big one for microsoft and nintendo',\n",
       "       'microsoft ha undergone a rebirth during nadella s leadership recovering from failure in the mobile phone and in',\n",
       "       'day workweek boosted worker productivity by microsoft japan say',\n",
       "       'please add butterfly and firefly into minecraft',\n",
       "       'microsoft named chief executive officer satya nadella a board chairman strengthening his influence at the world s',\n",
       "       'just wait til they see elder scroll exclusive because morrowwind wa an exclusive to original xbox',\n",
       "       'to even add a game to my desktop it s so unnecessarily difficult if pc is going to be a part of the microsoft gam',\n",
       "       'microsoft is now apple',\n",
       "       'microsoft chief nadella also take on role a chair it',\n",
       "       'what about the microsoft one',\n",
       "       'did jeff grubb frequently talked about sony rumor before he mention kojima to microsoft since i felt bad a',\n",
       "       'marable nystrom we support model and cu',\n",
       "       'should seattle be carbon negative harrell i don t know what that is gonzalez sure why not microsoft said the',\n",
       "       'look at the upgrade with this sick chair i deserve it after what i went through to land a job secretlab',\n",
       "       'just gon na say nintendo franchise s cause that best sum it up on sonys side while i enjoyed god of wa',\n",
       "       'but microsoft paid billion',\n",
       "       'top hidden tip amp trick of m word how to use microsoft word in ur via',\n",
       "       'thats more like a wii u situation with porting retooling game to a new ecosystem this is l',\n",
       "       'tag legit spotify youtube premium hbo max go viu grammarly scribd wattpad microsoft premium account premi',\n",
       "       'yes it did that s literally what microsoft is doing hence the streaming for xbox one',\n",
       "       'microsoft edge go full sjw reeeeeeee with pride theme save the link i ll be deleting the tweet',\n",
       "       'let me make it easy for you todd hey microsoft how about you buy',\n",
       "       'think this is how you get mass acceptance of cloud gaming but i wonder if they would be doing this if they weren t',\n",
       "       'the other day they wa spreading a false narrative that microsoft wa ditching console',\n",
       "       'software tech tip microsoft office shortcut to format selected text cell object a bold not bold ctrl b',\n",
       "       'i think it s funny that todd howard and are apologizing for and future bethesda game be',\n",
       "       'yeah and apparently you forgot to pas your math assignment yesterday',\n",
       "       'at the microsoft office specialist world championship a florida year old boy wa crowned the world excel champ',\n",
       "       'swordz so sony bought most o',\n",
       "       'new deal xbox one series x s amp win d new price deal newdeals',\n",
       "       'crapgamer i wa thinking that too wasn t there talk that microsoft actually purchased konami ip a',\n",
       "       'and unlike microsoft apple',\n",
       "       'in the s it wa more like what if microsoft announces they re going to build this which wa freq',\n",
       "       'i remember that it wa rule',\n",
       "       'thing are different yes microsoft did not prevent installation of any browser with any b',\n",
       "       'i take back literally everything i said about microsoft taking an interest in fixing their terminal',\n",
       "       'portal microsoft xbox brand new sealed original black label view it on ebay',\n",
       "       'klee it ll be on apple tv amazon google play the playstation store mic',\n",
       "       'mjfchat what s new on the microsoft security front',\n",
       "       'microsoft chief satya nadella also take on role a chair',\n",
       "       'gonz lez make sure using network that currently exists of youth engaged on this issue like youth who protest out',\n",
       "       'latest microsoft name ceo satya nadella a chairman microsoft corp on wednesday named chief executive officer sat',\n",
       "       'we said that so many time you don t need a xbox console for play their game actually microsoft s platform is gam',\n",
       "       'gonzalez want to make sure she s using the network that currently exists youth for climate justice action get eng',\n",
       "       'slam without a phd industry leader including microsoft google and facebook have all integrated simultaneous loca',\n",
       "       'i m downloading destiny on xbox one destiny xboxone bungieinc microsoft gamer gaming',\n",
       "       'xbox one player will be able to stream xbox series x s game via the cloud microsoft confirms in a recent blog po',\n",
       "       'you want pc gaming to be comparable to xbox for the love of god mak',\n",
       "       'still gave microsoft money on a microsoft platform window exactly a they pl',\n",
       "       'microsoft office resume template gallery career job curriculum cv jobsearch',\n",
       "       'a an owner do you have the most transparent detail for your capital project',\n",
       "       'nigga wasted his time on microsoft excel',\n",
       "       'visit my entry in demo extravaganza and vote for it if you like it also check other entry a well powerapps',\n",
       "       'it s going to be interesting what microsoft show next week for window i m not sure if it is a mind game but i'],\n",
       "      dtype=object)"
      ]
     },
     "execution_count": 14,
     "metadata": {},
     "output_type": "execute_result"
    }
   ],
   "source": [
    "tweet_df['cleaned_data'].values"
   ]
  },
  {
   "cell_type": "code",
   "execution_count": 15,
   "id": "c47c5add",
   "metadata": {},
   "outputs": [],
   "source": [
    "# Remove Stop Words from the data\n",
    "def remove_stopwords(text):\n",
    "    text_tokens = word_tokenize(text)\n",
    "    tokens = [word for word in text_tokens if not word in set(stopwords.words('english'))]\n",
    "    tokens_text = ' '.join(tokens)\n",
    "    return tokens_text\n",
    "tweet_df['cleaned_data'] = tweet_df['cleaned_data'].apply(remove_stopwords)"
   ]
  },
  {
   "cell_type": "code",
   "execution_count": 16,
   "id": "a4fefaba",
   "metadata": {},
   "outputs": [
    {
     "data": {
      "text/plain": [
       "array(['cover continues truth bill gate microsoft jeffrey epstein',\n",
       "       'proprietarysoftware microsoft team sic exploit exposed sensitive file email chat log',\n",
       "       'boat looking part microsoft g',\n",
       "       'wa wingz team crushed microsoft excel',\n",
       "       'ad microsoft xbox series x tb video game console black free shipping'],\n",
       "      dtype=object)"
      ]
     },
     "execution_count": 16,
     "metadata": {},
     "output_type": "execute_result"
    }
   ],
   "source": [
    "tweet_df['cleaned_data'][:5].values"
   ]
  },
  {
   "cell_type": "code",
   "execution_count": 17,
   "id": "98412375",
   "metadata": {},
   "outputs": [],
   "source": [
    "# Lets calculate the polarity of the reviews\n",
    "def get_polarity(text):\n",
    "    textblob = TextBlob(str(text))\n",
    "    pol = textblob.sentiment.polarity\n",
    "    if(pol == 0):\n",
    "        return \"Neutral\"\n",
    "    elif(pol > 0 and pol <= 0.3):\n",
    "        return \"Weakly Positive\"\n",
    "    elif(pol > 0.3 and pol <= 0.6):\n",
    "        return \"Positive\"\n",
    "    elif(pol> 0.6 and pol <= 1):\n",
    "        return \"Strongly Positive\"\n",
    "    elif(pol>-0.3 and pol <= 0):\n",
    "        return \"Weakly Negative\"\n",
    "    elif(pol>-0.6 and pol <= -0.3):\n",
    "        return \"Negative\"\n",
    "    elif(pol> -1 and pol <=-0.6):\n",
    "        return \"Strongly Negative\"\n",
    "tweet_df['polarity'] = tweet_df['cleaned_data'].apply(get_polarity)      "
   ]
  },
  {
   "cell_type": "code",
   "execution_count": 18,
   "id": "9c3db2c0",
   "metadata": {},
   "outputs": [
    {
     "data": {
      "text/plain": [
       "Neutral              52\n",
       "Weakly Positive      19\n",
       "Weakly Negative      10\n",
       "Positive              9\n",
       "Negative              6\n",
       "Strongly Positive     2\n",
       "Strongly Negative     2\n",
       "Name: polarity, dtype: int64"
      ]
     },
     "execution_count": 18,
     "metadata": {},
     "output_type": "execute_result"
    }
   ],
   "source": [
    "# Count the values by polarity\n",
    "tweet_df['polarity'].value_counts()"
   ]
  },
  {
   "cell_type": "code",
   "execution_count": 23,
   "id": "2abc3c99",
   "metadata": {},
   "outputs": [],
   "source": [
    "# Summarizing the polarity\n",
    "neutral = 0\n",
    "wpositive = 0\n",
    "spositive = 0\n",
    "positive = 0\n",
    "negative = 0\n",
    "wnegative = 0\n",
    "snegative = 0\n",
    "polarity = 0\n",
    "\n",
    "for i in range(0, 50):\n",
    "    textblob = TextBlob(str(tweet_df['cleaned_data'][i]))\n",
    "    polarity+=textblob.sentiment.polarity\n",
    "    pol = textblob.sentiment.polarity\n",
    "    \n",
    "    if (pol == 0): #addind reaction of how people are reacting to find\n",
    "        neutral += 1\n",
    "    elif (pol > 0  and pol <= 0.3):\n",
    "        wpositive += 1\n",
    "    elif (pol > 0.3  and pol <= 0.6):\n",
    "        positive += 1\n",
    "    elif (pol > 0.6 and pol <=1):\n",
    "        spositive += 1\n",
    "    elif (pol > -0.3 and pol <= 0):\n",
    "        wnegative += 1\n",
    "    elif (pol > -0.6 and pol <= -0.3):\n",
    "        negative += 1\n",
    "    elif (pol > -1 and pol <= -0.6):\n",
    "        snegative += 1        "
   ]
  },
  {
   "cell_type": "code",
   "execution_count": 24,
   "id": "5271910f",
   "metadata": {},
   "outputs": [
    {
     "data": {
      "text/plain": [
       "0.000196699134199137"
      ]
     },
     "execution_count": 24,
     "metadata": {},
     "output_type": "execute_result"
    }
   ],
   "source": [
    "# Finding the average reaction\n",
    "polarity = polarity / NoOfTerms\n",
    "polarity"
   ]
  },
  {
   "cell_type": "code",
   "execution_count": 27,
   "id": "b73656c3",
   "metadata": {},
   "outputs": [],
   "source": [
    "# Function to calculate percentage\n",
    "def percentage(part, whole):\n",
    "    temp = 100 * float(part) / float(whole)\n",
    "    return format(temp, '.2f')"
   ]
  },
  {
   "cell_type": "code",
   "execution_count": 28,
   "id": "687d092d",
   "metadata": {},
   "outputs": [],
   "source": [
    "# Calculate the percentage for each sentiment\n",
    "positive = percentage(positive, NoOfTerms)\n",
    "wpositive = percentage(wpositive, NoOfTerms)\n",
    "spositive = percentage(spositive, NoOfTerms)\n",
    "negative = percentage(negative, NoOfTerms)\n",
    "wnegative = percentage(wnegative, NoOfTerms)\n",
    "snegative = percentage(snegative, NoOfTerms)\n",
    "neutral = percentage(neutral, NoOfTerms)"
   ]
  },
  {
   "cell_type": "code",
   "execution_count": 30,
   "id": "abccc13f",
   "metadata": {},
   "outputs": [
    {
     "name": "stdout",
     "output_type": "stream",
     "text": [
      "positive: 2.00%\n",
      "weakly positive: 7.00%\n",
      "strongly positive: 1.00%\n",
      "negative: 4.00%\n",
      "weakly negative: 6.00%\n",
      "strongly negative: 1.00%\n",
      "neutral: 29.00%\n"
     ]
    }
   ],
   "source": [
    "# Show the percentage result of each sentiment\n",
    "print('positive: ' + positive + '%')\n",
    "print('weakly positive: ' + wpositive + '%')\n",
    "print('strongly positive: ' + spositive + '%')\n",
    "print('negative: ' + negative + '%')\n",
    "print('weakly negative: ' + wnegative + '%')\n",
    "print('strongly negative: ' + snegative + '%')\n",
    "print('neutral: ' + neutral + '%')\n"
   ]
  },
  {
   "cell_type": "code",
   "execution_count": 31,
   "id": "2b4cadd2",
   "metadata": {},
   "outputs": [
    {
     "name": "stdout",
     "output_type": "stream",
     "text": [
      "How people are reacting on microsoft by analyzing 100 tweets. \n",
      "\n",
      "-----------------------------------------------------------------------------------------\n",
      "\n",
      "General Report: \n",
      "Weakly Positive\n",
      "\n",
      "-----------------------------------------------------------------------------------------\n",
      "\n",
      "Detailed Report: \n",
      "\n",
      "2.00 % people thought it was positive\n",
      "7.00 % people thought it was weakly positive\n",
      "1.00 % people thought it was strongly positive\n",
      "4.00 % people thought it was negative\n",
      "6.00 % people thought it was weakly negative\n",
      "1.00 % people thought it was strongly negative\n",
      "29.00 % people thought it was neutral\n"
     ]
    }
   ],
   "source": [
    "# Printing out data - General Report\n",
    "print(\"How people are reacting on \"+ searchTerm + \" by analyzing \" + str(NoOfTerms) + \" tweets. \")\n",
    "print()\n",
    "print(\"-----------------------------------------------------------------------------------------\")\n",
    "print()\n",
    "print(\"General Report: \")\n",
    "\n",
    "if(polarity == 0):\n",
    "    print(\"Neutral\")\n",
    "elif(polarity > 0 and polarity <= 0.3):\n",
    "    print(\"Weakly Positive\")\n",
    "elif(polarity > 0.3 and polarity <= 0.6):\n",
    "    print(\"Positive\")\n",
    "elif(polarity> 0.6 and polarity <= 1):\n",
    "    print(\"Strongly Positive\")\n",
    "elif(polarity>-0.3 and polarity <= 0):\n",
    "    print(\"Weakly Negative\")\n",
    "elif(polarity>-0.6 and polarity <= -0.3):\n",
    "    print(\"Negative\")  \n",
    "elif(polarity> -1 and polarity <=-0.6):\n",
    "    print(\"Strongly Negative\") \n",
    "    \n",
    "#Printing out data - Detailed Report\n",
    "\n",
    "print()\n",
    "print(\"-----------------------------------------------------------------------------------------\")\n",
    "print()\n",
    "print(\"Detailed Report: \")\n",
    "print()\n",
    "\n",
    "print(str(positive) + \" % people thought it was positive\")\n",
    "print(str(wpositive) + \" % people thought it was weakly positive\")\n",
    "print(str(spositive) + \" % people thought it was strongly positive\")\n",
    "print(str(negative) + \" % people thought it was negative\")\n",
    "print(str(wnegative) + \" % people thought it was weakly negative\")\n",
    "print(str(snegative) + \" % people thought it was strongly negative\")\n",
    "print(str(neutral) + \" % people thought it was neutral\")    "
   ]
  },
  {
   "cell_type": "code",
   "execution_count": 32,
   "id": "322df347",
   "metadata": {},
   "outputs": [],
   "source": [
    "# Preparation to plot the sentiment in pie graph\n",
    "sizes = [positive, wpositive, spositive, neutral, negative, wnegative, snegative]\n",
    "colors = ['yellowgreen', 'lightgreen', 'darkgreen', 'gold', 'red', 'lightsalmon', 'darkred']\n",
    "labels = ['Positive [' + str(positive) + '%]',\n",
    "         'Weakly Positive [' + str(wpositive) + '%]',\n",
    "         'Strongly Positive [' +str(spositive) + '%]',\n",
    "         'Neutral [' +str(neutral) + '%]',\n",
    "         'Negative [' +str(negative) + '%]',\n",
    "         'Weakly Negative [' +str(wnegative) + '%]',\n",
    "         'Strongly Negative [' +str(snegative) + '%]']"
   ]
  },
  {
   "cell_type": "code",
   "execution_count": 34,
   "id": "64670c5c",
   "metadata": {},
   "outputs": [
    {
     "data": {
      "image/png": "[encoded data removed]",
      "text/plain": [
       "<Figure size 432x288 with 1 Axes>"
      ]
     },
     "metadata": {},
     "output_type": "display_data"
    }
   ],
   "source": [
    "# Show the sentiments analysis in pie graph\n",
    "plt.pie(sizes, labels = labels, colors = colors)\n",
    "plt.legend(labels, loc=\"best\")\n",
    "plt.title('How people are reacting on' + searchTerm + ' by analyzing ' + str(NoOfTerms) + ' Tweets.')\n",
    "plt.axis('equal')\n",
    "plt.tight_layout()\n",
    "plt.show()"
   ]
  }
 ],
 "metadata": {
  "kernelspec": {
   "display_name": "Python 3",
   "language": "python",
   "name": "python3"
  },
  "language_info": {
   "codemirror_mode": {
    "name": "ipython",
    "version": 3
   },
   "file_extension": ".py",
   "mimetype": "text/x-python",
   "name": "python",
   "nbconvert_exporter": "python",
   "pygments_lexer": "ipython3",
   "version": "3.8.8"
  }
 },
 "nbformat": 4,
 "nbformat_minor": 5
}
