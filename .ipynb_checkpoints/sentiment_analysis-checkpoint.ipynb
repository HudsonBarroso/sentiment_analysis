{
 "cells": [
  {
   "cell_type": "code",
   "execution_count": 44,
   "id": "8a608fbf",
   "metadata": {},
   "outputs": [],
   "source": [
    "import tweepy,re\n",
    "from textblob import TextBlob\n",
    "import matplotlib.pyplot as plt\n",
    "import pandas as pd\n",
    "from nltk.tokenize import word_tokenize\n",
    "from nltk.stem import WordNetLemmatizer\n",
    "from nltk.corpus import stopwords"
   ]
  },
  {
   "cell_type": "code",
   "execution_count": 13,
   "id": "7b7f69f3",
   "metadata": {},
   "outputs": [],
   "source": [
    "#Authentication\n",
    "consumerKey = 'Y3qbEvNnl1kJ5QufR69kprCN4'\n",
    "consumerSecret = 'uBwR6j5rdRvPBL03UnSi0V13RlKXRVd1SaJ5oJURdQSJsrqGGR'\n",
    "accessToken = '3344461197-GTVIAeKj4DSNJRI2I24a2hvVBg0ajlZM9YVkJrE'\n",
    "accessTokenSecret = 'Tke7S6JZZcV2tqpuUrYbs6dY2rFPIYlQmia7L0JfaNoUn'\n",
    "auth = tweepy.OAuthHandler(consumerKey, consumerSecret)\n",
    "auth.set_access_token(accessToken, accessTokenSecret)\n",
    "api = tweepy.API(auth)"
   ]
  },
  {
   "cell_type": "code",
   "execution_count": 86,
   "id": "6e7838c7",
   "metadata": {},
   "outputs": [
    {
     "name": "stdout",
     "output_type": "stream",
     "text": [
      "Enter the keyword/Tag to search about: python\n",
      "Enter how many tweet to search: 100\n"
     ]
    }
   ],
   "source": [
    "#input for term to be searched and how many tweets to search\n",
    "searchTerm = input(\"Enter the keyword/Tag to search about: \")\n",
    "NoOfTerms = int(input(\"Enter how many tweet to search: \"))\n",
    "\n",
    "tweets = []\n",
    "tweetText = []\n",
    "#searching for tweets \n",
    "tweets = tweepy.Cursor(api.search, q=searchTerm+\" -filter:retweets\", lang =\"en\").items(NoOfTerms)"
   ]
  },
  {
   "cell_type": "code",
   "execution_count": 87,
   "id": "01aa03dc",
   "metadata": {},
   "outputs": [
    {
     "data": {
      "text/html": [
       "<div>\n",
       "<style scoped>\n",
       "    .dataframe tbody tr th:only-of-type {\n",
       "        vertical-align: middle;\n",
       "    }\n",
       "\n",
       "    .dataframe tbody tr th {\n",
       "        vertical-align: top;\n",
       "    }\n",
       "\n",
       "    .dataframe thead th {\n",
       "        text-align: right;\n",
       "    }\n",
       "</style>\n",
       "<table border=\"1\" class=\"dataframe\">\n",
       "  <thead>\n",
       "    <tr style=\"text-align: right;\">\n",
       "      <th></th>\n",
       "      <th>0</th>\n",
       "    </tr>\n",
       "  </thead>\n",
       "  <tbody>\n",
       "    <tr>\n",
       "      <th>0</th>\n",
       "      <td>#FEATURED #COURSES\\nComplete #Python #Develope...</td>\n",
       "    </tr>\n",
       "    <tr>\n",
       "      <th>1</th>\n",
       "      <td>Numerical Methods for Simulation in Fractured ...</td>\n",
       "    </tr>\n",
       "    <tr>\n",
       "      <th>2</th>\n",
       "      <td>...when your code finally works at 1am on a Mo...</td>\n",
       "    </tr>\n",
       "    <tr>\n",
       "      <th>3</th>\n",
       "      <td>#AI is getting smarter every day,but it still ...</td>\n",
       "    </tr>\n",
       "    <tr>\n",
       "      <th>4</th>\n",
       "      <td>Hire our legit services ;\\n#Math\\n#Chem\\nBiolo...</td>\n",
       "    </tr>\n",
       "    <tr>\n",
       "      <th>...</th>\n",
       "      <td>...</td>\n",
       "    </tr>\n",
       "    <tr>\n",
       "      <th>95</th>\n",
       "      <td>Secure and random passphrase: teach welcome de...</td>\n",
       "    </tr>\n",
       "    <tr>\n",
       "      <th>96</th>\n",
       "      <td>Don't miss your deadline!!Get As in \\n*Project...</td>\n",
       "    </tr>\n",
       "    <tr>\n",
       "      <th>97</th>\n",
       "      <td>#FEATURED #COURSES\\n\\nMachine Learning A-Z�: H...</td>\n",
       "    </tr>\n",
       "    <tr>\n",
       "      <th>98</th>\n",
       "      <td>Python Programming &amp;amp; Software Design For A...</td>\n",
       "    </tr>\n",
       "    <tr>\n",
       "      <th>99</th>\n",
       "      <td>I think too many people with Haskell-envy star...</td>\n",
       "    </tr>\n",
       "  </tbody>\n",
       "</table>\n",
       "<p>100 rows × 1 columns</p>\n",
       "</div>"
      ],
      "text/plain": [
       "                                                    0\n",
       "0   #FEATURED #COURSES\\nComplete #Python #Develope...\n",
       "1   Numerical Methods for Simulation in Fractured ...\n",
       "2   ...when your code finally works at 1am on a Mo...\n",
       "3   #AI is getting smarter every day,but it still ...\n",
       "4   Hire our legit services ;\\n#Math\\n#Chem\\nBiolo...\n",
       "..                                                ...\n",
       "95  Secure and random passphrase: teach welcome de...\n",
       "96  Don't miss your deadline!!Get As in \\n*Project...\n",
       "97  #FEATURED #COURSES\\n\\nMachine Learning A-Z�: H...\n",
       "98  Python Programming &amp; Software Design For A...\n",
       "99  I think too many people with Haskell-envy star...\n",
       "\n",
       "[100 rows x 1 columns]"
      ]
     },
     "execution_count": 87,
     "metadata": {},
     "output_type": "execute_result"
    }
   ],
   "source": [
    "tweet_list = [tweet.text for tweet in tweets]\n",
    "tweet_df = pd.DataFrame(tweet_list)\n",
    "tweet_df"
   ]
  },
  {
   "cell_type": "markdown",
   "id": "590e8897",
   "metadata": {},
   "source": [
    "## Cleaning Data\n",
    "This regular expression was made to remove words with \"@\""
   ]
  },
  {
   "cell_type": "code",
   "execution_count": 88,
   "id": "dccffe55",
   "metadata": {},
   "outputs": [],
   "source": [
    "def clean_data(text):\n",
    "    return ' '.join(re.sub(\"(@[a-zA-Z0-9]+)|([^0-9A-Za-z])|(https://[\\w.]+/[\\w]+)\",\" \", text).split())\n",
    "\n",
    "tweet_df['cleaned_data'] = tweet_df[0].apply(clean_data)"
   ]
  },
  {
   "cell_type": "code",
   "execution_count": 89,
   "id": "2e7de8f6",
   "metadata": {},
   "outputs": [
    {
     "data": {
      "text/html": [
       "<div>\n",
       "<style scoped>\n",
       "    .dataframe tbody tr th:only-of-type {\n",
       "        vertical-align: middle;\n",
       "    }\n",
       "\n",
       "    .dataframe tbody tr th {\n",
       "        vertical-align: top;\n",
       "    }\n",
       "\n",
       "    .dataframe thead th {\n",
       "        text-align: right;\n",
       "    }\n",
       "</style>\n",
       "<table border=\"1\" class=\"dataframe\">\n",
       "  <thead>\n",
       "    <tr style=\"text-align: right;\">\n",
       "      <th></th>\n",
       "      <th>0</th>\n",
       "      <th>cleaned_data</th>\n",
       "    </tr>\n",
       "  </thead>\n",
       "  <tbody>\n",
       "    <tr>\n",
       "      <th>0</th>\n",
       "      <td>#FEATURED #COURSES\\nComplete #Python #Develope...</td>\n",
       "      <td>FEATURED COURSES Complete Python Developer in ...</td>\n",
       "    </tr>\n",
       "    <tr>\n",
       "      <th>1</th>\n",
       "      <td>Numerical Methods for Simulation in Fractured ...</td>\n",
       "      <td>Numerical Methods for Simulation in Fractured ...</td>\n",
       "    </tr>\n",
       "    <tr>\n",
       "      <th>2</th>\n",
       "      <td>...when your code finally works at 1am on a Mo...</td>\n",
       "      <td>when your code finally works at 1am on a Monda...</td>\n",
       "    </tr>\n",
       "    <tr>\n",
       "      <th>3</th>\n",
       "      <td>#AI is getting smarter every day,but it still ...</td>\n",
       "      <td>AI is getting smarter every day but it still c...</td>\n",
       "    </tr>\n",
       "    <tr>\n",
       "      <th>4</th>\n",
       "      <td>Hire our legit services ;\\n#Math\\n#Chem\\nBiolo...</td>\n",
       "      <td>Hire our legit services Math Chem Biology Essa...</td>\n",
       "    </tr>\n",
       "  </tbody>\n",
       "</table>\n",
       "</div>"
      ],
      "text/plain": [
       "                                                   0  \\\n",
       "0  #FEATURED #COURSES\\nComplete #Python #Develope...   \n",
       "1  Numerical Methods for Simulation in Fractured ...   \n",
       "2  ...when your code finally works at 1am on a Mo...   \n",
       "3  #AI is getting smarter every day,but it still ...   \n",
       "4  Hire our legit services ;\\n#Math\\n#Chem\\nBiolo...   \n",
       "\n",
       "                                        cleaned_data  \n",
       "0  FEATURED COURSES Complete Python Developer in ...  \n",
       "1  Numerical Methods for Simulation in Fractured ...  \n",
       "2  when your code finally works at 1am on a Monda...  \n",
       "3  AI is getting smarter every day but it still c...  \n",
       "4  Hire our legit services Math Chem Biology Essa...  "
      ]
     },
     "execution_count": 89,
     "metadata": {},
     "output_type": "execute_result"
    }
   ],
   "source": [
    "tweet_df.head()"
   ]
  },
  {
   "cell_type": "code",
   "execution_count": 90,
   "id": "129a52c7",
   "metadata": {},
   "outputs": [],
   "source": [
    "#Function to remove numbers\n",
    "def drop_numbers(list_text):\n",
    "    list_text_new = []\n",
    "    for i in list_text:\n",
    "        if not re.search('\\d', i):\n",
    "            list_text_new.append(i)\n",
    "    return ''.join(list_text_new) \n",
    "tweet_df['cleaned_data'] = tweet_df['cleaned_data'].apply(drop_numbers)"
   ]
  },
  {
   "cell_type": "code",
   "execution_count": 91,
   "id": "e5d1206a",
   "metadata": {},
   "outputs": [
    {
     "data": {
      "text/html": [
       "<div>\n",
       "<style scoped>\n",
       "    .dataframe tbody tr th:only-of-type {\n",
       "        vertical-align: middle;\n",
       "    }\n",
       "\n",
       "    .dataframe tbody tr th {\n",
       "        vertical-align: top;\n",
       "    }\n",
       "\n",
       "    .dataframe thead th {\n",
       "        text-align: right;\n",
       "    }\n",
       "</style>\n",
       "<table border=\"1\" class=\"dataframe\">\n",
       "  <thead>\n",
       "    <tr style=\"text-align: right;\">\n",
       "      <th></th>\n",
       "      <th>0</th>\n",
       "      <th>cleaned_data</th>\n",
       "    </tr>\n",
       "  </thead>\n",
       "  <tbody>\n",
       "    <tr>\n",
       "      <th>0</th>\n",
       "      <td>#FEATURED #COURSES\\nComplete #Python #Develope...</td>\n",
       "      <td>FEATURED COURSES Complete Python Developer in ...</td>\n",
       "    </tr>\n",
       "    <tr>\n",
       "      <th>1</th>\n",
       "      <td>Numerical Methods for Simulation in Fractured ...</td>\n",
       "      <td>Numerical Methods for Simulation in Fractured ...</td>\n",
       "    </tr>\n",
       "    <tr>\n",
       "      <th>2</th>\n",
       "      <td>...when your code finally works at 1am on a Mo...</td>\n",
       "      <td>when your code finally works at am on a Monday...</td>\n",
       "    </tr>\n",
       "    <tr>\n",
       "      <th>3</th>\n",
       "      <td>#AI is getting smarter every day,but it still ...</td>\n",
       "      <td>AI is getting smarter every day but it still c...</td>\n",
       "    </tr>\n",
       "    <tr>\n",
       "      <th>4</th>\n",
       "      <td>Hire our legit services ;\\n#Math\\n#Chem\\nBiolo...</td>\n",
       "      <td>Hire our legit services Math Chem Biology Essa...</td>\n",
       "    </tr>\n",
       "    <tr>\n",
       "      <th>...</th>\n",
       "      <td>...</td>\n",
       "      <td>...</td>\n",
       "    </tr>\n",
       "    <tr>\n",
       "      <th>95</th>\n",
       "      <td>Secure and random passphrase: teach welcome de...</td>\n",
       "      <td>Secure and random passphrase teach welcome dep...</td>\n",
       "    </tr>\n",
       "    <tr>\n",
       "      <th>96</th>\n",
       "      <td>Don't miss your deadline!!Get As in \\n*Project...</td>\n",
       "      <td>Don t miss your deadline Get As in Project Mat...</td>\n",
       "    </tr>\n",
       "    <tr>\n",
       "      <th>97</th>\n",
       "      <td>#FEATURED #COURSES\\n\\nMachine Learning A-Z�: H...</td>\n",
       "      <td>FEATURED COURSES Machine Learning A Z Hands On...</td>\n",
       "    </tr>\n",
       "    <tr>\n",
       "      <th>98</th>\n",
       "      <td>Python Programming &amp;amp; Software Design For A...</td>\n",
       "      <td>Python Programming amp Software Design For Abs...</td>\n",
       "    </tr>\n",
       "    <tr>\n",
       "      <th>99</th>\n",
       "      <td>I think too many people with Haskell-envy star...</td>\n",
       "      <td>I think too many people with Haskell envy star...</td>\n",
       "    </tr>\n",
       "  </tbody>\n",
       "</table>\n",
       "<p>100 rows × 2 columns</p>\n",
       "</div>"
      ],
      "text/plain": [
       "                                                    0  \\\n",
       "0   #FEATURED #COURSES\\nComplete #Python #Develope...   \n",
       "1   Numerical Methods for Simulation in Fractured ...   \n",
       "2   ...when your code finally works at 1am on a Mo...   \n",
       "3   #AI is getting smarter every day,but it still ...   \n",
       "4   Hire our legit services ;\\n#Math\\n#Chem\\nBiolo...   \n",
       "..                                                ...   \n",
       "95  Secure and random passphrase: teach welcome de...   \n",
       "96  Don't miss your deadline!!Get As in \\n*Project...   \n",
       "97  #FEATURED #COURSES\\n\\nMachine Learning A-Z�: H...   \n",
       "98  Python Programming &amp; Software Design For A...   \n",
       "99  I think too many people with Haskell-envy star...   \n",
       "\n",
       "                                         cleaned_data  \n",
       "0   FEATURED COURSES Complete Python Developer in ...  \n",
       "1   Numerical Methods for Simulation in Fractured ...  \n",
       "2   when your code finally works at am on a Monday...  \n",
       "3   AI is getting smarter every day but it still c...  \n",
       "4   Hire our legit services Math Chem Biology Essa...  \n",
       "..                                                ...  \n",
       "95  Secure and random passphrase teach welcome dep...  \n",
       "96  Don t miss your deadline Get As in Project Mat...  \n",
       "97  FEATURED COURSES Machine Learning A Z Hands On...  \n",
       "98  Python Programming amp Software Design For Abs...  \n",
       "99  I think too many people with Haskell envy star...  \n",
       "\n",
       "[100 rows x 2 columns]"
      ]
     },
     "execution_count": 91,
     "metadata": {},
     "output_type": "execute_result"
    }
   ],
   "source": [
    "tweet_df"
   ]
  },
  {
   "cell_type": "code",
   "execution_count": 92,
   "id": "74346a07",
   "metadata": {},
   "outputs": [],
   "source": [
    "# changing all the words of the reviews column to lowercase letters\n",
    "def lower_case(text):\n",
    "    text_words = word_tokenize(text)\n",
    "    text_words_lower = [x.lower() for x in text_words]\n",
    "    return ' '.join(text_words_lower)\n",
    "\n",
    "tweet_df['cleaned_data'] = tweet_df['cleaned_data'].apply(lower_case)"
   ]
  },
  {
   "cell_type": "code",
   "execution_count": 93,
   "id": "3613146b",
   "metadata": {},
   "outputs": [
    {
     "name": "stderr",
     "output_type": "stream",
     "text": [
      "[nltk_data] Downloading package wordnet to\n",
      "[nltk_data]     C:\\Users\\HudsonCarol\\AppData\\Roaming\\nltk_data...\n",
      "[nltk_data]   Package wordnet is already up-to-date!\n",
      "[nltk_data] Downloading package punkt to\n",
      "[nltk_data]     C:\\Users\\HudsonCarol\\AppData\\Roaming\\nltk_data...\n",
      "[nltk_data]   Package punkt is already up-to-date!\n",
      "[nltk_data] Downloading package stopwords to\n",
      "[nltk_data]     C:\\Users\\HudsonCarol\\AppData\\Roaming\\nltk_data...\n",
      "[nltk_data]   Package stopwords is already up-to-date!\n"
     ]
    },
    {
     "data": {
      "text/plain": [
       "True"
      ]
     },
     "execution_count": 93,
     "metadata": {},
     "output_type": "execute_result"
    }
   ],
   "source": [
    "import nltk\n",
    "nltk.download('wordnet')\n",
    "nltk.download('punkt')\n",
    "nltk.download('stopwords')"
   ]
  },
  {
   "cell_type": "code",
   "execution_count": 94,
   "id": "4c9fa4f3",
   "metadata": {},
   "outputs": [],
   "source": [
    "# convert a word to its base form - ‘Caring’ -> Lemmatization -> ‘Care’\n",
    "lemmatizer = WordNetLemmatizer()\n",
    "def lemmatise(text):\n",
    "    text_tokens = word_tokenize(text)\n",
    "    text_lemm = [lemmatizer.lemmatize(word) for word in text_tokens]\n",
    "    return ' '.join(text_lemm)\n",
    "\n",
    "tweet_df['cleaned_data'] = tweet_df['cleaned_data'].apply(lemmatise)"
   ]
  },
  {
   "cell_type": "code",
   "execution_count": 95,
   "id": "78aed391",
   "metadata": {},
   "outputs": [
    {
     "data": {
      "text/plain": [
       "array(['featured course complete python developer in zero to mastery how to become a python developer and get',\n",
       "       'numerical method for simulation in fractured reservoir bigdata analytics datascience ai machinelearning',\n",
       "       'when your code finally work at am on a monday after troubleshooting all day long smallwins phdlife python rookie',\n",
       "       'ai is getting smarter every day but it still can t match the human mind',\n",
       "       'hire our legit service math chem biology essay due paper write english paper pay someone help paper case',\n",
       "       'i begin with an idea and then it becomes something else pablo picasso python twitterbot quote',\n",
       "       'i had a literal python in my apartment my sophomore year in college never had the stone to use that line though',\n",
       "       'ace that class with our scholar history biology chemistry nursing econometrics python essay homework',\n",
       "       'hi i need your help regarding kdb database can you provide me a basic insert and basic query cod',\n",
       "       'free data science book on ml and nlproc bigdata analytics datascience iot iiot pytorch python rstats',\n",
       "       'we have beef again python is my favorite coding language go speedbridge slowly off a cliff',\n",
       "       'aeromic bling pouchbelt purple python gymlife fitfam',\n",
       "       'be cyber savvy cybersecurity security password bugbounty finance digital python java javascript',\n",
       "       'freshbooks is in need of a principal software engineer c java ruby rubyonrails python javascript docker',\n",
       "       'we offer legit amp quality academic solution essaypay econometrics javascript womenwhocode english',\n",
       "       'how to make python code run incredibly fast ai ml',\n",
       "       'for learning doing some image processing using python code can i get some soil profile picture thank you you',\n",
       "       'i am all about blackinstem my pal over at are promoting this amazing workshop amp after school su',\n",
       "       'jackie could unhinge her jaw and swallow him whole like a python',\n",
       "       'we assure best gpa in essay homework online class pay someone write python physic pay essay essay help math',\n",
       "       'we assure best gpa in essay online class pay someone write python physic pay essay essay help math pay biolo',\n",
       "       'we assure best gpa in essay homework online class pay someone write python physic pay essay essay help math',\n",
       "       'we assure best gpa in essay homework online class pay someone write python physic pay essay essay help math',\n",
       "       'crooked planned to drop nikkei',\n",
       "       'hire our legit service in math chem biology essay due paper write english paper pay someone help paper',\n",
       "       'parodia amusingmyself flyway alive',\n",
       "       'for quality grade in your onlineclass math onlineclass nodejs econometrics math essay javascript',\n",
       "       'kds library give attributeerror module kds ha no attribute metric python pythonx',\n",
       "       'i m hiring looking for senior to principal level golang or python engineer architect for multiple u based',\n",
       "       'string theory',\n",
       "       'this may be a bit too niche but doe anyone have a reference to how to calculate acoustic impedance curve of pipe',\n",
       "       'python programming amp software design for absolute beginner machinelearning bigdata learning via',\n",
       "       'plotly python main theme in plotly j with code',\n",
       "       'the release of absl py package is now available abseil python common library see',\n",
       "       'for quality grade in your onlineclass math onlineclass nodejs econometrics math essay javascript',\n",
       "       'parodia flyway alive',\n",
       "       'changing my mind about javascript now that i use it by itself instead of other html cs file gamedev webdev',\n",
       "       'covid relationship between vaccination rate and positive case study canada this country vaccine',\n",
       "       'get quality grade for your onlineclass math onlineclass nodejs econometrics math essay javascript',\n",
       "       'thanks so much to all the devs hard work much appreciated anything i can',\n",
       "       'traffic now y all killed the python just to grill it and the calf alongside it who s greedy now',\n",
       "       'i may or may not have gotten python fastapi secured with azure ad end to end token and scope validation',\n",
       "       'linguistic syntax building abstract language using python',\n",
       "       'monty python s life of brian is a good one',\n",
       "       'get quality grade for your onlineclass math onlineclass nodejs econometrics math essay javascript',\n",
       "       'five movie i ve seen more than five time the fifth element clerk the big lebowski monty python and the holy',\n",
       "       'ace that class with our scholar history biology chemistry nursing econometrics python essay homework',\n",
       "       'solve real world problem build the confidence to code on your own datascience',\n",
       "       'this hour photo weather minnesota photo raspberrypi python',\n",
       "       'ha anyone watched the monty python and the holy grail i m watching it now and it s funny but so unsettling for some reason',\n",
       "       'create your free account introduction to aws boto in python learn about aws boto and harnessing cloud technology',\n",
       "       'featured course machine learning data science and deep learning with python complete hand on machine',\n",
       "       'hold you like a python premiosmtvmiaw mtvlacrushjoaco mtvlaiconokenia',\n",
       "       'why is programming in python anaconda so tough dude give me a break with all your library and package not being a',\n",
       "       'watch this space then i am getting a bearded dragon and a diamond python soon lt there will be many pic',\n",
       "       'parodia flyway alive',\n",
       "       'day daysofcode more work with python postgresql setting up database and importing data unrelated i st',\n",
       "       'huh you can turn on the engine from python using a fordpass module perhaps this code ha way to',\n",
       "       'i just voted for psf board', 'parodia flyway alive',\n",
       "       'here is the python code i used to make my map of usroute python pythonprogramminglanguage',\n",
       "       'want to learn python programming from smartphone go here bigdata analytics',\n",
       "       'diploma in python with data science and machine learning ml research data datascience',\n",
       "       'jupyter notebook tutorial using the modzy python sdk by modzy python',\n",
       "       'every like year i get the hankering to game jam that shit and recreate it in python in like a weekend but lololololol free weekend wat',\n",
       "       'python mega course go beginner to expert in python ml research data datascience',\n",
       "       'pay u to do your statistic literature nursing biology chemistry law psychology assignment homework',\n",
       "       'pay u for mathematics algebra calculus pay essay thesis sociology psychology physiology case study college es',\n",
       "       'source',\n",
       "       'the data science microdegree data analysis amp visualization ml research data',\n",
       "       'witness said virginia brown yelled no vaccine while almost hitting seven people with her suv witness also',\n",
       "       'day of daysofcode daysofpython function with input positional v keyword argument paint area calcu',\n",
       "       'dm for quality assignment help hmu history pay someone physic essayhelp english essaypay essaydue histor',\n",
       "       'best python library for data science in datascience',\n",
       "       'go follow the great and she ha some very sexy snake video make some amazi',\n",
       "       'asshole theory so informative amp fun no surprise wall street douchebags were a common link encapsulates why mont',\n",
       "       'day of daysofdata day of daysofrunning today i read up on how to set up python virtual environmen',\n",
       "       'day of daysofcode python check out this work in progress note concept code from the course activit',\n",
       "       'code in this order go javascript solidity but i get to use python more often',\n",
       "       'clippy in vscode programming softwareengineering bigdata datascience analytics ai python javascript',\n",
       "       'regrouping python list item organizing given data python list',\n",
       "       'honestly while knowing coding well would ve helped me on a number of occasion what littl',\n",
       "       'i am a raspberrypi python scripted bot this is my daily pihole report ad blocked ad percentage today',\n",
       "       'w python package should be handled with virtual environment multiple version of python can',\n",
       "       'we offer legit amp quality academic solution essaypay econometrics womenwhocode english assignment',\n",
       "       'a multi method approach to modeling covid disease dynamic daysofcode ai analytics bigdata datascience',\n",
       "       'no thought just then gandalf the grey and gandalf the white and monty python and the holy grail s black knight and',\n",
       "       'a multi method approach to modeling covid disease dynamic daysofcode ai analytics bigdata datascience',\n",
       "       'how to perform yolo object detection using opencv and pytorch in python vaga emprego',\n",
       "       'if you ve watched them who is your favorite member and favorite sketch of monty python jackask',\n",
       "       'ebooks twin boy colt and python',\n",
       "       'onsite summer steam learning opportunity programmer webdesign roblox python youtube minecraft iphone gamer',\n",
       "       'python lambda function quiz python lambda are little anonymous function subject to a more restrictive but',\n",
       "       'bootstrap html amp cs create a modern youtube homepage gt udemy coupon',\n",
       "       'don t miss your deadline get a in project mathematics essay due english paper pay case study quiz do my',\n",
       "       'secure and random passphrase teach welcome dependable girlfriend strength passphrase',\n",
       "       'don t miss your deadline get a in project mathematics essay due english paper pay case study quiz do my',\n",
       "       'featured course machine learning a z hand on python amp r in data science learn to create machine learning al',\n",
       "       'python programming amp software design for absolute beginner ml research data',\n",
       "       'i think too many people with haskell envy start doing this stuff there s a contingent that is determined to strip'],\n",
       "      dtype=object)"
      ]
     },
     "execution_count": 95,
     "metadata": {},
     "output_type": "execute_result"
    }
   ],
   "source": [
    "tweet_df['cleaned_data'].values"
   ]
  },
  {
   "cell_type": "code",
   "execution_count": 96,
   "id": "c47c5add",
   "metadata": {},
   "outputs": [],
   "source": [
    "#Remove Stop Words from the data\n",
    "def remove_stopwords(text):\n",
    "    text_tokens = word_tokenize(text)\n",
    "    tokens = [word for word in text_tokens if not word in set(stopwords.words('english'))]\n",
    "    tokens_text = ' '.join(tokens)\n",
    "    return tokens_text\n",
    "tweet_df['cleaned_data'] = tweet_df['cleaned_data'].apply(remove_stopwords)"
   ]
  },
  {
   "cell_type": "code",
   "execution_count": 97,
   "id": "a4fefaba",
   "metadata": {},
   "outputs": [
    {
     "data": {
      "text/plain": [
       "array(['featured course complete python developer zero mastery become python developer get',\n",
       "       'numerical method simulation fractured reservoir bigdata analytics datascience ai machinelearning',\n",
       "       'code finally work monday troubleshooting day long smallwins phdlife python rookie',\n",
       "       'ai getting smarter every day still match human mind',\n",
       "       'hire legit service math chem biology essay due paper write english paper pay someone help paper case'],\n",
       "      dtype=object)"
      ]
     },
     "execution_count": 97,
     "metadata": {},
     "output_type": "execute_result"
    }
   ],
   "source": [
    "tweet_df['cleaned_data'][:5].values"
   ]
  },
  {
   "cell_type": "code",
   "execution_count": 100,
   "id": "98412375",
   "metadata": {},
   "outputs": [],
   "source": [
    "#Lets calculate the polarity of the reviews\n",
    "def get_polarity(text):\n",
    "    textblob = TextBlob(str(text))\n",
    "    pol = textblob.sentiment.polarity\n",
    "    if(pol == 0):\n",
    "        return \"Neutral\"\n",
    "    elif(pol > 0 and pol <= 0.3):\n",
    "        return \"Weakly Positive\"\n",
    "    elif(pol > 0.3 and pol <= 0.6):\n",
    "        return \"Positive\"\n",
    "    elif(pol> 0.6 and pol <= 1):\n",
    "        return \"Strongly Positive\"\n",
    "    elif(pol>-0.3 and pol <= 0):\n",
    "        return \"Weakly Negative\"\n",
    "    elif(pol>-0.6 and pol <= -0.3):\n",
    "        return \"Negative\"\n",
    "    elif(pol> -1 and pol <=-0.6):\n",
    "        return \"Strongly Negative\"\n",
    "tweet_df['polarity'] = tweet_df['cleaned_data'].apply(get_polarity)      "
   ]
  },
  {
   "cell_type": "code",
   "execution_count": 101,
   "id": "9c3db2c0",
   "metadata": {},
   "outputs": [
    {
     "data": {
      "text/plain": [
       "Neutral              56\n",
       "Weakly Positive      20\n",
       "Weakly Negative      10\n",
       "Strongly Positive     8\n",
       "Positive              5\n",
       "Negative              1\n",
       "Name: polarity, dtype: int64"
      ]
     },
     "execution_count": 101,
     "metadata": {},
     "output_type": "execute_result"
    }
   ],
   "source": [
    "tweet_df['polarity'].value_counts()"
   ]
  },
  {
   "cell_type": "code",
   "execution_count": 102,
   "id": "2abc3c99",
   "metadata": {},
   "outputs": [],
   "source": [
    "neutral = 0\n",
    "wpositive = 0\n",
    "spositive = 0\n",
    "positive = 0\n",
    "negative = 0\n",
    "wnegative = 0\n",
    "snegative = 0\n",
    "polarity = 0\n",
    "\n",
    "for i in range(0, 50):\n",
    "    textblob = TextBlob(str(tweet_df['cleaned_data'][i]))\n",
    "    polarity+=textblob.sentiment.polarity\n",
    "    pol = textblob.sentiment.polarity\n",
    "    \n",
    "    if (pol == 0): #addind reaction of how people are reacting to find\n",
    "        neutral += 1\n",
    "    elif (pol > 0  and pol <= 0.3):\n",
    "        wpositive += 1\n",
    "    elif (pol > 0.3  and pol <= 0.6):\n",
    "        positive += 1\n",
    "    elif (pol > 0.6 and pol <=1):\n",
    "        spositive += 1\n",
    "    elif (pol > -0.3 and pol <= 0):\n",
    "        wnegative += 1\n",
    "    elif (pol > -0.6 and pol <= -0.3):\n",
    "        negative += 1\n",
    "    elif (pol > -1 and pol <= -0.6):\n",
    "        snegative += 1\n",
    "        "
   ]
  },
  {
   "cell_type": "code",
   "execution_count": 103,
   "id": "5271910f",
   "metadata": {},
   "outputs": [
    {
     "data": {
      "text/plain": [
       "0.07046022727272727"
      ]
     },
     "execution_count": 103,
     "metadata": {},
     "output_type": "execute_result"
    }
   ],
   "source": [
    "#finding the average reaction\n",
    "polarity = polarity / NoOfTerms\n",
    "polarity"
   ]
  },
  {
   "cell_type": "code",
   "execution_count": 104,
   "id": "b73656c3",
   "metadata": {},
   "outputs": [],
   "source": [
    "def percentage(part, whole):\n",
    "    temp = 100 * float(part) / float(whole)\n",
    "    return format(temp, '.2f')"
   ]
  },
  {
   "cell_type": "code",
   "execution_count": 105,
   "id": "687d092d",
   "metadata": {},
   "outputs": [],
   "source": [
    "positive = percentage(positive, NoOfTerms)\n",
    "wpositive = percentage(wpositive, NoOfTerms)\n",
    "spositive = percentage(spositive, NoOfTerms)\n",
    "negative = percentage(negative, NoOfTerms)\n",
    "wnegative = percentage(wnegative, NoOfTerms)\n",
    "snegative = percentage(snegative, NoOfTerms)\n",
    "neutral = percentage(neutral, NoOfTerms)"
   ]
  },
  {
   "cell_type": "code",
   "execution_count": 106,
   "id": "abccc13f",
   "metadata": {},
   "outputs": [
    {
     "name": "stdout",
     "output_type": "stream",
     "text": [
      "positive: 1.00%\n",
      "wpositive: 13.00%\n",
      "spositive: 6.00%\n",
      "negative: 0.00%\n",
      "wnegative: 5.00%\n",
      "snegative: 0.00%\n",
      "neutral: 25.00%\n"
     ]
    }
   ],
   "source": [
    "print('positive: ' + positive + '%')\n",
    "print('wpositive: ' + wpositive + '%')\n",
    "print('spositive: ' + spositive + '%')\n",
    "print('negative: ' + negative + '%')\n",
    "print('wnegative: ' + wnegative + '%')\n",
    "print('snegative: ' + snegative + '%')\n",
    "print('neutral: ' + neutral + '%')\n"
   ]
  },
  {
   "cell_type": "code",
   "execution_count": 107,
   "id": "2b4cadd2",
   "metadata": {},
   "outputs": [
    {
     "name": "stdout",
     "output_type": "stream",
     "text": [
      "How people are reacting on python by analyzing 100 tweets. \n",
      "\n",
      "-----------------------------------------------------------------------------------------\n",
      "\n",
      "General Report: \n",
      "Weakly Positive\n",
      "\n",
      "-----------------------------------------------------------------------------------------\n",
      "\n",
      "Detailed Report: \n",
      "\n",
      "1.00 % people thought it was positive\n",
      "13.00 % people thought it was weakly positive\n",
      "6.00 % people thought it was strongly positive\n",
      "0.00 % people thought it was negative\n",
      "5.00 % people thought it was weakly negative\n",
      "0.00 % people thought it was strongly negative\n",
      "25.00 % people thought it was neutral\n"
     ]
    }
   ],
   "source": [
    "#Printing out data - General Report\n",
    "print(\"How people are reacting on \"+ searchTerm + \" by analyzing \" + str(NoOfTerms) + \" tweets. \")\n",
    "print()\n",
    "print(\"-----------------------------------------------------------------------------------------\")\n",
    "print()\n",
    "print(\"General Report: \")\n",
    "\n",
    "if(polarity == 0):\n",
    "    print(\"Neutral\")\n",
    "elif(polarity > 0 and polarity <= 0.3):\n",
    "    print(\"Weakly Positive\")\n",
    "elif(polarity > 0.3 and polarity <= 0.6):\n",
    "    print(\"Positive\")\n",
    "elif(polarity> 0.6 and polarity <= 1):\n",
    "    print(\"Strongly Positive\")\n",
    "elif(polarity>-0.3 and polarity <= 0):\n",
    "    print(\"Weakly Negative\")\n",
    "elif(polarity>-0.6 and polarity <= -0.3):\n",
    "    print(\"Negative\")  \n",
    "elif(polarity> -1 and polarity <=-0.6):\n",
    "    print(\"Strongly Negative\") \n",
    "    \n",
    "#Printing out data - Detailed Report\n",
    "\n",
    "print()\n",
    "print(\"-----------------------------------------------------------------------------------------\")\n",
    "print()\n",
    "print(\"Detailed Report: \")\n",
    "print()\n",
    "\n",
    "print(str(positive) + \" % people thought it was positive\")\n",
    "print(str(wpositive) + \" % people thought it was weakly positive\")\n",
    "print(str(spositive) + \" % people thought it was strongly positive\")\n",
    "print(str(negative) + \" % people thought it was negative\")\n",
    "print(str(wnegative) + \" % people thought it was weakly negative\")\n",
    "print(str(snegative) + \" % people thought it was strongly negative\")\n",
    "print(str(neutral) + \" % people thought it was neutral\")    "
   ]
  },
  {
   "cell_type": "code",
   "execution_count": 108,
   "id": "322df347",
   "metadata": {},
   "outputs": [],
   "source": [
    "sizes = [positive, wpositive, spositive, neutral, negative, wnegative, snegative]\n",
    "colors = ['yellowgreen', 'lightgreen', 'darkgreen', 'gold', 'red', 'lightsalmon', 'darkred']\n",
    "labels = ['Positive [' + str(positive) + '%]',\n",
    "         'Weakly Positive [' + str(wpositive) + '%]',\n",
    "         'Strongly Positive [' +str(spositive) + '%]',\n",
    "         'Neutral [' +str(neutral) + '%]',\n",
    "         'Negative [' +str(negative) + '%]',\n",
    "         'Weakly Negative [' +str(wnegative) + '%]',\n",
    "         'Strongly Negative [' +str(snegative) + '%]']"
   ]
  },
  {
   "cell_type": "code",
   "execution_count": 109,
   "id": "64670c5c",
   "metadata": {},
   "outputs": [
    {
     "data": {
      "image/png": "[encoded data removed]",
      "text/plain": [
       "<Figure size 432x288 with 1 Axes>"
      ]
     },
     "metadata": {},
     "output_type": "display_data"
    }
   ],
   "source": [
    "plt.pie(sizes, labels = labels, colors = colors)\n",
    "plt.legend(labels, loc=\"best\")\n",
    "plt.title('How people are reacting on' + searchTerm + ' by analyzing ' + str(NoOfTerms) + ' Tweets.')\n",
    "plt.axis('equal')\n",
    "plt.tight_layout()\n",
    "plt.show()"
   ]
  }
 ],
 "metadata": {
  "kernelspec": {
   "display_name": "Python 3",
   "language": "python",
   "name": "python3"
  },
  "language_info": {
   "codemirror_mode": {
    "name": "ipython",
    "version": 3
   },
   "file_extension": ".py",
   "mimetype": "text/x-python",
   "name": "python",
   "nbconvert_exporter": "python",
   "pygments_lexer": "ipython3",
   "version": "3.8.8"
  }
 },
 "nbformat": 4,
 "nbformat_minor": 5
}
